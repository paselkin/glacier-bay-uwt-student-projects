{
 "cells": [
  {
   "cell_type": "code",
   "execution_count": null,
   "id": "c96271c8",
   "metadata": {},
   "outputs": [],
   "source": [
    "import numpy as np\n",
    "import pandas as pd\n",
    "import matplotlib.pyplot as plt\n",
    "import os\n",
    "import re\n",
    "import scipy.interpolate as spi\n",
    "import scipy.optimize as spo\n",
    "import scipy.stats as sps\n",
    "import git\n",
    "import altair as alt\n",
    "import hysttools as ht\n",
    "from pathlib import Path\n",
    "from datetime import date"
   ]
  },
  {
   "cell_type": "code",
   "execution_count": null,
   "id": "d86189f8",
   "metadata": {
    "scrolled": true
   },
   "outputs": [],
   "source": [
    "from altair_data_server import data_server\n",
    "alt.data_transformers.enable('data_server')"
   ]
  },
  {
   "cell_type": "code",
   "execution_count": null,
   "id": "8d09b6cf",
   "metadata": {},
   "outputs": [],
   "source": [
    "repo=git.Repo('.', search_parent_directories=True)\n",
    "path_root = Path(repo.working_tree_dir)\n",
    "data_folder = path_root / 'data'\n",
    "processed_folder = data_folder / 'processed'\n",
    "vsm_folder = data_folder / 'raw'/'vsm'\n",
    "image_folder = data_folder / 'images'\n",
    "search_pattern = re.compile('.*irmdcd$') # This is the suffix for a hysteresis file\n",
    "\n",
    "file_list = list(filter(search_pattern.match,os.listdir(vsm_folder)))\n",
    "specimens=pd.DataFrame(data={'name':file_list,'file':file_list})\n",
    "specimens['name']=specimens['name'].str.replace('\\.irmdcd','').str.replace('-.*','').str.lower()\n",
    "\n",
    "location_names={'.*eg.*':'glacier','.*cb.*':'bay','.*combay.*':'bay','.*suspended.*':'suspended','.*bed.*':'bed'}\n",
    "specimens['location']=specimens['name'].replace(location_names.keys(),location_names.values(),regex=True)\n",
    "\n",
    "print(specimens)\n",
    "print(\"\\n{} IRMDCD files to process.\".format(np.shape(specimens)[0]))"
   ]
  },
  {
   "cell_type": "code",
   "execution_count": null,
   "id": "42900e84",
   "metadata": {},
   "outputs": [],
   "source": [
    "#Hgrid=ht.make_hgrid(200,0.8,0.5)\n",
    "#Hgrid2=ht.make_hgrid2(200,0.8)\n",
    "#hyst_rh=pd.DataFrame(columns=['id']+[\"{}\".format(x) for x in Hgrid])\n",
    "#hyst_ih=pd.DataFrame(columns=['id']+[\"{}\".format(x) for x in Hgrid])\n",
    "s_dcd=pd.DataFrame([])\n",
    "d_dcd=pd.DataFrame([])"
   ]
  },
  {
   "cell_type": "code",
   "execution_count": null,
   "id": "8aa8e084",
   "metadata": {},
   "outputs": [],
   "source": [
    "ht.process_irm??"
   ]
  },
  {
   "cell_type": "code",
   "execution_count": null,
   "id": "5f991f38",
   "metadata": {},
   "outputs": [],
   "source": [
    "file_skip=[]\n",
    "hyst_stats=pd.DataFrame(columns=['id','field','remanence','gradient','Hcr','max_d2'])\n",
    "all_irm=pd.DataFrame(columns=['id','field','remanence','gradient','Hcr','max_d2'])\n",
    "\n",
    "for index,row in specimens.iterrows():\n",
    "    name,file_name,location = row\n",
    "    file_path = vsm_folder / file_name\n",
    "    print('Working on {}\\n{}\\n'.format(file_name,file_path))\n",
    "    if (file_name in file_skip):\n",
    "        print('Skipping... {}\\n'.format(name))\n",
    "    if (file_name not in file_skip):\n",
    "        print(\"Processing: {}\\n\".format(name))\n",
    "        s,d = ht.read_dcd(file_path)\n",
    "        print(\"IRM/Backfield file read with {} data points.\".format(d.shape[0]))\n",
    "        #s_dcd=pd.concat([s,s_dcd],axis=0,ignore_index=True)\n",
    "        #d_dcd=pd.concat([d,d_dcd],axis=0,ignore_index=True)\n",
    "        result_dcd = ht.process_dcd(s,d)\n",
    "        print(\"Backfield processed.\")\n",
    "        irm_curve=d.loc[(d['type']=='irm')].copy()\n",
    "        smooth = 5*(10**(2.0*np.ceil(np.log10(0.1*np.min(np.abs(irm_curve.remanence))))))\n",
    "        result_irm = ht.process_irm(s,d,smooth=smooth)\n",
    "        to_add=pd.Series(result_irm['irm_derivative'].to_dict())\n",
    "        to_add['id']=name\n",
    "        max_d2=np.max(np.gradient(pd.Series(to_add['gradient']).values,pd.Series(to_add['field']).values))\n",
    "        print(\">> Max IRM second derivative: {}\".format(max_d2))\n",
    "        to_add['max_d2']=max_d2\n",
    "        to_add['Hcr']=float(result_dcd['Hcr'])\n",
    "        hyst_stats=hyst_stats.append(to_add,ignore_index=True)\n",
    "        #if (max_d2>=2000):\n",
    "        #    print(\"WARNING: High second derivative detected in IRM acquisition curve for specimen {}.\".format(to_add['id'].first()))\n",
    "        all_irm=all_irm.append(to_add,ignore_index=True)\n",
    "        print(\"IRM data processed.\")\n",
    "    "
   ]
  },
  {
   "cell_type": "code",
   "execution_count": null,
   "id": "fc0ce21f",
   "metadata": {
    "scrolled": true
   },
   "outputs": [],
   "source": [
    "print(all_irm.columns)\n",
    "#filtered_irm=all_irm[all_irm.apply(lambda x: (pd.Series(x['gradient'])>20).any(),axis=1)]\n",
    "grouped_irm=all_irm.groupby('id')\n",
    "irm_max_d2s=grouped_irm['max_d2'].first()\n",
    "with pd.option_context('display.max_rows', 150):\n",
    "    display(irm_max_d2s.sort_values())\n",
    "filtered_irm=all_irm[all_irm.apply(lambda x: (pd.Series(x['max_d2'])<100000).any(),axis=1)]\n",
    "#filtered_irm=\n",
    "print(filtered_irm.shape,all_irm.shape)"
   ]
  },
  {
   "cell_type": "code",
   "execution_count": null,
   "id": "197398e0",
   "metadata": {
    "scrolled": true
   },
   "outputs": [],
   "source": [
    "all_irm"
   ]
  },
  {
   "cell_type": "code",
   "execution_count": null,
   "id": "3c191960",
   "metadata": {},
   "outputs": [],
   "source": [
    "#filtered_irm=all_irm[all_irm.apply(lambda x: (pd.Series(x['gradient']).apply(lambda y: np.abs(y))>=20).any(),axis=1)].copy().reset_index(drop=True)\n",
    "filtered_irm=all_irm[all_irm.apply(lambda x: (pd.Series(x['max_d2'])<2000).any(),axis=1)].copy().reset_index(drop=True)\n",
    "#grouped_filtered_irm=filtered_irm.groupby('id')\n",
    "#display(pd.concat(pd.DataFrame({'id':id, 'field':field,'remanence':remanence,'gradient':gradient,'max_d2':max_d2}) \n",
    "#                  for id, field, remanence, gradient, max_d2 in filtered_irm.items()))\n",
    "filtered_irm=pd.merge(filtered_irm,specimens,left_on='id',right_on='name')\n",
    "df_all=pd.DataFrame([])\n",
    "for index,row in filtered_irm.iterrows():\n",
    "    df=pd.DataFrame({'id':row['id'],'location':row['location'],'field':pd.Series(row['field']),'remanence':pd.Series(row['remanence']),\n",
    "                    'gradient':pd.Series(row['gradient']),'max_d2':row['max_d2']})\n",
    "    df_all=pd.concat([df_all,df],axis=0)\n",
    "\n",
    "#print (df_all)\n",
    "\n",
    "P=alt.Chart(df_all).mark_line(opacity=0.5).encode(\n",
    "    x=alt.X('field:Q',scale=alt.Scale(type='log',domain=(0.01,1),clamp=True)),\n",
    "    y=alt.Y('gradient:Q',scale=alt.Scale(domain=(0,20),clamp=True)),\n",
    "    detail='id:N',\n",
    "#    color='',\n",
    "    tooltip=['id','field'],\n",
    "    facet='location:N'\n",
    ").properties(\n",
    "    width=300,\n",
    "    height=300\n",
    ").interactive()\n",
    "\n",
    "display(P)"
   ]
  },
  {
   "cell_type": "code",
   "execution_count": null,
   "id": "1e3bf16f",
   "metadata": {},
   "outputs": [],
   "source": []
  }
 ],
 "metadata": {
  "kernelspec": {
   "display_name": "Python (pmagpy_env)",
   "language": "python",
   "name": "pmagpy_env"
  },
  "language_info": {
   "codemirror_mode": {
    "name": "ipython",
    "version": 3
   },
   "file_extension": ".py",
   "mimetype": "text/x-python",
   "name": "python",
   "nbconvert_exporter": "python",
   "pygments_lexer": "ipython3",
   "version": "3.7.16"
  }
 },
 "nbformat": 4,
 "nbformat_minor": 5
}
