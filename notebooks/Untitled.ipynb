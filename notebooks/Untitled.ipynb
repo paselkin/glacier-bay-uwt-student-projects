{
 "cells": [
  {
   "cell_type": "code",
   "execution_count": 1,
   "id": "5dc16934",
   "metadata": {},
   "outputs": [],
   "source": [
    "import cv2\n",
    "import altair as alt\n",
    "import pandas as pd\n",
    "import numpy as np\n",
    "from pathlib import Path"
   ]
  },
  {
   "cell_type": "code",
   "execution_count": 14,
   "id": "b2074493",
   "metadata": {},
   "outputs": [],
   "source": [
    "image=cv2.imread(str(Path(\"C:\\\\Users\\\\paselkin\\\\Dropbox\\\\Research\\\\Glaciers2Bay\\\\glacier-bay-uwt-student-projects\\\\data\\\\images\")/\"IMG_20230914_113859760_HDR[1].tif\"),cv2.IMREAD_UNCHANGED)\n",
    "image_hsv=cv2.cvtColor(image,cv2.COLOR_BGR2HSV)"
   ]
  },
  {
   "cell_type": "code",
   "execution_count": 22,
   "id": "7759c64d",
   "metadata": {},
   "outputs": [
    {
     "name": "stdout",
     "output_type": "stream",
     "text": [
      "(1995, 1496, 3)\n"
     ]
    }
   ],
   "source": [
    "print(image.shape)"
   ]
  }
 ],
 "metadata": {
  "kernelspec": {
   "display_name": "Python (pmagpy_env)",
   "language": "python",
   "name": "pmagpy_env"
  },
  "language_info": {
   "codemirror_mode": {
    "name": "ipython",
    "version": 3
   },
   "file_extension": ".py",
   "mimetype": "text/x-python",
   "name": "python",
   "nbconvert_exporter": "python",
   "pygments_lexer": "ipython3",
   "version": "3.7.16"
  }
 },
 "nbformat": 4,
 "nbformat_minor": 5
}
