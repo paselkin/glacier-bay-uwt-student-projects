{
 "cells": [
  {
   "cell_type": "code",
   "execution_count": null,
   "id": "c96271c8",
   "metadata": {},
   "outputs": [],
   "source": [
    "import numpy as np\n",
    "import pandas as pd\n",
    "import matplotlib.pyplot as plt\n",
    "import os\n",
    "import re\n",
    "import scipy.interpolate as spi\n",
    "import scipy.optimize as spo\n",
    "import scipy.stats as sps\n",
    "import git\n",
    "import altair as alt\n",
    "import hysttools as ht\n",
    "from pathlib import Path\n",
    "from datetime import date"
   ]
  },
  {
   "cell_type": "code",
   "execution_count": null,
   "id": "d86189f8",
   "metadata": {
    "scrolled": true
   },
   "outputs": [],
   "source": [
    "from altair_data_server import data_server\n",
    "alt.data_transformers.enable('data_server')"
   ]
  },
  {
   "cell_type": "code",
   "execution_count": null,
   "id": "8d09b6cf",
   "metadata": {},
   "outputs": [],
   "source": [
    "repo=git.Repo('.', search_parent_directories=True)\n",
    "path_root = Path(repo.working_tree_dir)\n",
    "data_folder = path_root / 'data'\n",
    "processed_folder = data_folder / 'processed'\n",
    "vsm_folder = data_folder / 'raw'/'vsm'\n",
    "image_folder = data_folder / 'images'\n",
    "search_pattern = re.compile('.*hysu$') # This is the suffix for a hysteresis file\n",
    "\n",
    "file_list = list(filter(search_pattern.match,os.listdir(vsm_folder)))\n",
    "specimens=pd.DataFrame(data={'name':file_list,'file':file_list})\n",
    "specimens['name']=specimens['name'].str.replace('\\.hysu','').str.lower()\n",
    "\n",
    "location_names={'.*eg.*':'glacier','.*cb.*':'bay','.*combay.*':'bay','.*suspended.*':'suspended','.*bed.*':'bed'}\n",
    "specimens['location']=specimens['name'].replace(location_names.keys(),location_names.values(),regex=True)\n",
    "\n",
    "print(specimens)\n",
    "print(\"\\n{} HYSU files to process.\".format(np.shape(specimens)[0]))"
   ]
  },
  {
   "cell_type": "code",
   "execution_count": null,
   "id": "42900e84",
   "metadata": {},
   "outputs": [],
   "source": [
    "Hgrid=ht.make_hgrid(200,0.8,0.5)\n",
    "Hgrid2=ht.make_hgrid2(200,0.8)\n",
    "hyst_rh=pd.DataFrame(columns=['id']+[\"{}\".format(x) for x in Hgrid])\n",
    "hyst_ih=pd.DataFrame(columns=['id']+[\"{}\".format(x) for x in Hgrid])\n",
    "all_irm=pd.DataFrame(columns=['id','field','remanence','gradient'])"
   ]
  },
  {
   "cell_type": "code",
   "execution_count": null,
   "id": "5f991f38",
   "metadata": {},
   "outputs": [],
   "source": [
    "file_skip=[]\n",
    "hyst_stats=pd.DataFrame(columns=['id','Mrs','Ms','Hc','Xhf','Q','Qeff'])\n",
    "\n",
    "for index,row in specimens.iterrows():\n",
    "    name,file_name,location = row\n",
    "    file_path = vsm_folder / file_name\n",
    "    print('Working on {}\\n{}\\n'.format(file_name,file_path))\n",
    "    if (file_name in file_skip):\n",
    "        print('Skipping... {}\\n'.format(file_name))\n",
    "    if (file_name not in file_skip):\n",
    "        print(\"Processing: {}\\n\".format(name))\n",
    "        s,d=ht.read_hyst(file_path)\n",
    "        print(\"Hysteresis file read with {} data points.\".format(d['moment'].shape[0]))\n",
    "        result=ht.process_hyst(s,d,Hgrid=Hgrid)\n",
    "        print(\"Hysteresis file processed.\")\n",
    "        fig=plt.figure(1)\n",
    "        ax_tuple=ht.plot_hyst_report(result,fig,name)\n",
    "        plt.savefig(image_folder/'{}_hystreport.svg'.format(name),dpi=300)\n",
    "        plt.savefig(image_folder/'{}_hystreport.png'.format(name),dpi=300)\n",
    "        to_add=pd.Series({'id':name,\n",
    "                                        'Mrs':float(result['Mrs']),\n",
    "                                        'Ms':float(result['Ms']),\n",
    "                                        'Hc':float(result['Hc']),\n",
    "                                        'Xhf':float(result['Xhf']),\n",
    "                                        'Q':float(result['Q']),\n",
    "                                        'Qeff':float(result['Qeff'])})\n",
    "        hyst_stats=hyst_stats.append(to_add,ignore_index=True)\n",
    "        to_add=pd.Series(dict(zip([\"{}\".format(x) for x in result['reversible']['field']],result['reversible']['moment'])))\n",
    "        to_add['id']=name\n",
    "        hyst_rh=hyst_rh.append(to_add,ignore_index=True)\n",
    "        to_add=pd.Series(dict(zip([\"{}\".format(x) for x in result['irreversible']['field']],result['irreversible']['moment'])))\n",
    "        to_add['id']=name\n",
    "        hyst_ih=hyst_ih.append(to_add,ignore_index=True)\n",
    "        "
   ]
  },
  {
   "cell_type": "code",
   "execution_count": null,
   "id": "fc0ce21f",
   "metadata": {
    "scrolled": true
   },
   "outputs": [],
   "source": [
    "hyst_stats['MrsMs']=hyst_stats['Mrs']/hyst_stats['Ms']\n",
    "hyst_stats"
   ]
  },
  {
   "cell_type": "code",
   "execution_count": null,
   "id": "197398e0",
   "metadata": {},
   "outputs": [],
   "source": [
    "hyst_stats.to_csv(processed_folder/'hyst_stats.csv')"
   ]
  },
  {
   "cell_type": "code",
   "execution_count": null,
   "id": "a4b8a65d",
   "metadata": {},
   "outputs": [],
   "source": [
    "hyst_chart=alt.Chart(hyst_stats).mark_point().encode(\n",
    "    x='Hc:Q',\n",
    "    y='MrsMs:Q',\n",
    "    size='Q:Q',\n",
    "    color='Xhf:Q'\n",
    ")\n",
    "display(hyst_chart)"
   ]
  }
 ],
 "metadata": {
  "kernelspec": {
   "display_name": "Python (pmagpy_env)",
   "language": "python",
   "name": "pmagpy_env"
  },
  "language_info": {
   "codemirror_mode": {
    "name": "ipython",
    "version": 3
   },
   "file_extension": ".py",
   "mimetype": "text/x-python",
   "name": "python",
   "nbconvert_exporter": "python",
   "pygments_lexer": "ipython3",
   "version": "3.7.16"
  }
 },
 "nbformat": 4,
 "nbformat_minor": 5
}
